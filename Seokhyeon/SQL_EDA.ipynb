{
 "cells": [
  {
   "cell_type": "code",
   "execution_count": 1,
   "metadata": {
    "id": "QsdljIgq85Eb"
   },
   "outputs": [],
   "source": [
    "import sqlite3\n",
    "import pandas as pd\n",
    "import seaborn as sns\n",
    "\n",
    "conn = sqlite3.connect(':memory:')\n",
    "\n",
    "# creating a cursor object\n",
    "cur = conn.cursor()\n",
    "\n",
    "# Call the dbListTables() function\n",
    "cur.execute(\"SELECT name FROM sqlite_master WHERE type='table';\")\n",
    "tables = cur.fetchall()"
   ]
  },
  {
   "cell_type": "code",
   "execution_count": 3,
   "metadata": {
    "id": "Xhi0IGbS_yy8"
   },
   "outputs": [],
   "source": [
    "# Read Training dataset as well as drop the index column\n",
    "training_data = pd.read_csv('./cs-training.csv').drop('Unnamed: 0', axis = 1)\n",
    "\n",
    "\n",
    "# For each column heading we replace \"-\" and convert the heading in lowercase \n",
    "cleancolumn = []\n",
    "for i in range(len(training_data.columns)):\n",
    "    cleancolumn.append(training_data.columns[i].replace('-', '').lower())\n",
    "training_data.columns = cleancolumn"
   ]
  },
  {
   "cell_type": "code",
   "execution_count": 32,
   "metadata": {
    "colab": {
     "base_uri": "https://localhost:8080/",
     "height": 423
    },
    "id": "E_V4SWnQ_0oA",
    "outputId": "e4224387-5303-4053-a5bd-ae8c11812e46",
    "scrolled": false
   },
   "outputs": [
    {
     "data": {
      "text/html": [
       "<div>\n",
       "<style scoped>\n",
       "    .dataframe tbody tr th:only-of-type {\n",
       "        vertical-align: middle;\n",
       "    }\n",
       "\n",
       "    .dataframe tbody tr th {\n",
       "        vertical-align: top;\n",
       "    }\n",
       "\n",
       "    .dataframe thead th {\n",
       "        text-align: right;\n",
       "    }\n",
       "</style>\n",
       "<table border=\"1\" class=\"dataframe\">\n",
       "  <thead>\n",
       "    <tr style=\"text-align: right;\">\n",
       "      <th></th>\n",
       "      <th>seriousdlqin2yrs</th>\n",
       "      <th>revolvingutilizationofunsecuredlines</th>\n",
       "      <th>age</th>\n",
       "      <th>numberoftime3059dayspastduenotworse</th>\n",
       "      <th>debtratio</th>\n",
       "      <th>monthlyincome</th>\n",
       "      <th>numberofopencreditlinesandloans</th>\n",
       "      <th>numberoftimes90dayslate</th>\n",
       "      <th>numberrealestateloansorlines</th>\n",
       "      <th>numberoftime6089dayspastduenotworse</th>\n",
       "      <th>numberofdependents</th>\n",
       "    </tr>\n",
       "  </thead>\n",
       "  <tbody>\n",
       "    <tr>\n",
       "      <th>0</th>\n",
       "      <td>1</td>\n",
       "      <td>0.766127</td>\n",
       "      <td>45</td>\n",
       "      <td>2</td>\n",
       "      <td>0.802982</td>\n",
       "      <td>9120.0</td>\n",
       "      <td>13</td>\n",
       "      <td>0</td>\n",
       "      <td>6</td>\n",
       "      <td>0</td>\n",
       "      <td>2.0</td>\n",
       "    </tr>\n",
       "    <tr>\n",
       "      <th>1</th>\n",
       "      <td>0</td>\n",
       "      <td>0.957151</td>\n",
       "      <td>40</td>\n",
       "      <td>0</td>\n",
       "      <td>0.121876</td>\n",
       "      <td>2600.0</td>\n",
       "      <td>4</td>\n",
       "      <td>0</td>\n",
       "      <td>0</td>\n",
       "      <td>0</td>\n",
       "      <td>1.0</td>\n",
       "    </tr>\n",
       "    <tr>\n",
       "      <th>2</th>\n",
       "      <td>0</td>\n",
       "      <td>0.658180</td>\n",
       "      <td>38</td>\n",
       "      <td>1</td>\n",
       "      <td>0.085113</td>\n",
       "      <td>3042.0</td>\n",
       "      <td>2</td>\n",
       "      <td>1</td>\n",
       "      <td>0</td>\n",
       "      <td>0</td>\n",
       "      <td>0.0</td>\n",
       "    </tr>\n",
       "    <tr>\n",
       "      <th>3</th>\n",
       "      <td>0</td>\n",
       "      <td>0.233810</td>\n",
       "      <td>30</td>\n",
       "      <td>0</td>\n",
       "      <td>0.036050</td>\n",
       "      <td>3300.0</td>\n",
       "      <td>5</td>\n",
       "      <td>0</td>\n",
       "      <td>0</td>\n",
       "      <td>0</td>\n",
       "      <td>0.0</td>\n",
       "    </tr>\n",
       "    <tr>\n",
       "      <th>4</th>\n",
       "      <td>0</td>\n",
       "      <td>0.907239</td>\n",
       "      <td>49</td>\n",
       "      <td>1</td>\n",
       "      <td>0.024926</td>\n",
       "      <td>63588.0</td>\n",
       "      <td>7</td>\n",
       "      <td>0</td>\n",
       "      <td>1</td>\n",
       "      <td>0</td>\n",
       "      <td>0.0</td>\n",
       "    </tr>\n",
       "  </tbody>\n",
       "</table>\n",
       "</div>"
      ],
      "text/plain": [
       "   seriousdlqin2yrs  revolvingutilizationofunsecuredlines  age  \\\n",
       "0                 1                              0.766127   45   \n",
       "1                 0                              0.957151   40   \n",
       "2                 0                              0.658180   38   \n",
       "3                 0                              0.233810   30   \n",
       "4                 0                              0.907239   49   \n",
       "\n",
       "   numberoftime3059dayspastduenotworse  debtratio  monthlyincome  \\\n",
       "0                                    2   0.802982         9120.0   \n",
       "1                                    0   0.121876         2600.0   \n",
       "2                                    1   0.085113         3042.0   \n",
       "3                                    0   0.036050         3300.0   \n",
       "4                                    1   0.024926        63588.0   \n",
       "\n",
       "   numberofopencreditlinesandloans  numberoftimes90dayslate  \\\n",
       "0                               13                        0   \n",
       "1                                4                        0   \n",
       "2                                2                        1   \n",
       "3                                5                        0   \n",
       "4                                7                        0   \n",
       "\n",
       "   numberrealestateloansorlines  numberoftime6089dayspastduenotworse  \\\n",
       "0                             6                                    0   \n",
       "1                             0                                    0   \n",
       "2                             0                                    0   \n",
       "3                             0                                    0   \n",
       "4                             1                                    0   \n",
       "\n",
       "   numberofdependents  \n",
       "0                 2.0  \n",
       "1                 1.0  \n",
       "2                 0.0  \n",
       "3                 0.0  \n",
       "4                 0.0  "
      ]
     },
     "execution_count": 32,
     "metadata": {},
     "output_type": "execute_result"
    }
   ],
   "source": [
    "training_data.head()"
   ]
  },
  {
   "cell_type": "code",
   "execution_count": 4,
   "metadata": {
    "colab": {
     "base_uri": "https://localhost:8080/"
    },
    "id": "YRvcTWJR868o",
    "outputId": "0510d6f4-abeb-4194-8cc4-1b55f066123d"
   },
   "outputs": [
    {
     "data": {
      "text/plain": [
       "150000"
      ]
     },
     "execution_count": 4,
     "metadata": {},
     "output_type": "execute_result"
    }
   ],
   "source": [
    "# Convert the DataFrame to an SQL database table\n",
    "training_data.to_sql('data', conn, if_exists='replace')"
   ]
  },
  {
   "cell_type": "markdown",
   "metadata": {},
   "source": [
    "## Question 1: People have no dependents, which is single, they might have less financial responsibility to afford the household. Therefore, their debtratio would be less. "
   ]
  },
  {
   "cell_type": "code",
   "execution_count": 5,
   "metadata": {
    "id": "eIIwtvNS87DI"
   },
   "outputs": [
    {
     "name": "stdout",
     "output_type": "stream",
     "text": [
      "       NumberOfDependents  DebtRatio\n",
      "0                     0.0   329664.0\n",
      "1                     0.0   326442.0\n",
      "2                     0.0   110952.0\n",
      "3                     0.0   101320.0\n",
      "4                     0.0    61907.0\n",
      "...                   ...        ...\n",
      "86897                 0.0        0.0\n",
      "86898                 0.0        0.0\n",
      "86899                 0.0        0.0\n",
      "86900                 0.0        0.0\n",
      "86901                 0.0        0.0\n",
      "\n",
      "[86902 rows x 2 columns]\n"
     ]
    }
   ],
   "source": [
    "query = \"\"\"\n",
    "SELECT\n",
    "  numberofdependents AS \"NumberOfDependents\",\n",
    "  debtratio AS \"DebtRatio\"\n",
    "FROM\n",
    "  data\n",
    "WHERE\n",
    "  numberofdependents = 0\n",
    "ORDER BY\n",
    "  debtratio DESC;\n",
    "\"\"\"\n",
    "\n",
    "# Execute the query and load the result into a new DataFrame\n",
    "filtered_sorted_df = pd.read_sql_query(query, conn)\n",
    "\n",
    "# Display the resulting DataFrame\n",
    "print(filtered_sorted_df)"
   ]
  },
  {
   "cell_type": "markdown",
   "metadata": {
    "id": "QMJec4fJDlEC"
   },
   "source": [
    "## Question 2 : What is the monthly income of the people aged between 30 and 45 "
   ]
  },
  {
   "cell_type": "code",
   "execution_count": 31,
   "metadata": {},
   "outputs": [
    {
     "name": "stdout",
     "output_type": "stream",
     "text": [
      "       MonthlyIncome\n",
      "0             9120.0\n",
      "1             2600.0\n",
      "2             3042.0\n",
      "3             3300.0\n",
      "4             3500.0\n",
      "...              ...\n",
      "42479         6849.0\n",
      "42480         2760.0\n",
      "42481         7515.0\n",
      "42482         5584.0\n",
      "42483         5716.0\n",
      "\n",
      "[42484 rows x 1 columns]\n"
     ]
    }
   ],
   "source": [
    "query = \"\"\"\n",
    "SELECT\n",
    "  monthlyincome AS \"MonthlyIncome\"\n",
    "FROM\n",
    "  data\n",
    "WHERE\n",
    "  age BETWEEN 30 AND 45;\n",
    "\"\"\"\n",
    "\n",
    "# Execute the query and load the result into a new DataFrame\n",
    "monthly_income_df = pd.read_sql_query(query, conn)\n",
    "\n",
    "# Display the resulting DataFrame\n",
    "print(monthly_income_df)"
   ]
  },
  {
   "cell_type": "code",
   "execution_count": null,
   "metadata": {},
   "outputs": [],
   "source": []
  }
 ],
 "metadata": {
  "colab": {
   "provenance": []
  },
  "kernelspec": {
   "display_name": "Python 3 (ipykernel)",
   "language": "python",
   "name": "python3"
  },
  "language_info": {
   "codemirror_mode": {
    "name": "ipython",
    "version": 3
   },
   "file_extension": ".py",
   "mimetype": "text/x-python",
   "name": "python",
   "nbconvert_exporter": "python",
   "pygments_lexer": "ipython3",
   "version": "3.11.4"
  },
  "toc": {
   "base_numbering": 1,
   "nav_menu": {},
   "number_sections": true,
   "sideBar": true,
   "skip_h1_title": false,
   "title_cell": "Table of Contents",
   "title_sidebar": "Contents",
   "toc_cell": false,
   "toc_position": {},
   "toc_section_display": true,
   "toc_window_display": false
  }
 },
 "nbformat": 4,
 "nbformat_minor": 1
}
