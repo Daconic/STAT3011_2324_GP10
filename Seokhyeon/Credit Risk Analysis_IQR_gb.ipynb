{
 "cells": [
  {
   "cell_type": "markdown",
   "metadata": {},
   "source": [
    "### Basic data analysis or exploratory data analysis (EDA)"
   ]
  },
  {
   "cell_type": "code",
   "execution_count": 1,
   "metadata": {},
   "outputs": [],
   "source": [
    "from __future__ import print_function\n",
    "import pandas as pd\n",
    "import numpy as np\n",
    "import seaborn as sns\n",
    "import matplotlib.pyplot as plt\n",
    "%matplotlib inline"
   ]
  },
  {
   "cell_type": "code",
   "execution_count": 2,
   "metadata": {},
   "outputs": [],
   "source": [
    "import warnings\n",
    "warnings.filterwarnings(\"ignore\")"
   ]
  },
  {
   "cell_type": "code",
   "execution_count": 3,
   "metadata": {},
   "outputs": [],
   "source": [
    "# Read Training dataset as well as drop the index column\n",
    "training_data = pd.read_csv('./cs-training.csv').drop('Unnamed: 0', axis = 1)\n",
    "\n",
    "\n",
    "# For each column heading we replace \"-\" and convert the heading in lowercase \n",
    "cleancolumn = []\n",
    "for i in range(len(training_data.columns)):\n",
    "    cleancolumn.append(training_data.columns[i].replace('-', '').lower())\n",
    "training_data.columns = cleancolumn"
   ]
  },
  {
   "cell_type": "code",
   "execution_count": 4,
   "metadata": {},
   "outputs": [
    {
     "data": {
      "text/html": [
       "<div>\n",
       "<style scoped>\n",
       "    .dataframe tbody tr th:only-of-type {\n",
       "        vertical-align: middle;\n",
       "    }\n",
       "\n",
       "    .dataframe tbody tr th {\n",
       "        vertical-align: top;\n",
       "    }\n",
       "\n",
       "    .dataframe thead th {\n",
       "        text-align: right;\n",
       "    }\n",
       "</style>\n",
       "<table border=\"1\" class=\"dataframe\">\n",
       "  <thead>\n",
       "    <tr style=\"text-align: right;\">\n",
       "      <th></th>\n",
       "      <th>seriousdlqin2yrs</th>\n",
       "      <th>revolvingutilizationofunsecuredlines</th>\n",
       "      <th>age</th>\n",
       "      <th>numberoftime3059dayspastduenotworse</th>\n",
       "      <th>debtratio</th>\n",
       "      <th>monthlyincome</th>\n",
       "      <th>numberofopencreditlinesandloans</th>\n",
       "      <th>numberoftimes90dayslate</th>\n",
       "      <th>numberrealestateloansorlines</th>\n",
       "      <th>numberoftime6089dayspastduenotworse</th>\n",
       "      <th>numberofdependents</th>\n",
       "    </tr>\n",
       "  </thead>\n",
       "  <tbody>\n",
       "    <tr>\n",
       "      <th>0</th>\n",
       "      <td>1</td>\n",
       "      <td>0.766127</td>\n",
       "      <td>45</td>\n",
       "      <td>2</td>\n",
       "      <td>0.802982</td>\n",
       "      <td>9120.0</td>\n",
       "      <td>13</td>\n",
       "      <td>0</td>\n",
       "      <td>6</td>\n",
       "      <td>0</td>\n",
       "      <td>2.0</td>\n",
       "    </tr>\n",
       "    <tr>\n",
       "      <th>1</th>\n",
       "      <td>0</td>\n",
       "      <td>0.957151</td>\n",
       "      <td>40</td>\n",
       "      <td>0</td>\n",
       "      <td>0.121876</td>\n",
       "      <td>2600.0</td>\n",
       "      <td>4</td>\n",
       "      <td>0</td>\n",
       "      <td>0</td>\n",
       "      <td>0</td>\n",
       "      <td>1.0</td>\n",
       "    </tr>\n",
       "    <tr>\n",
       "      <th>2</th>\n",
       "      <td>0</td>\n",
       "      <td>0.658180</td>\n",
       "      <td>38</td>\n",
       "      <td>1</td>\n",
       "      <td>0.085113</td>\n",
       "      <td>3042.0</td>\n",
       "      <td>2</td>\n",
       "      <td>1</td>\n",
       "      <td>0</td>\n",
       "      <td>0</td>\n",
       "      <td>0.0</td>\n",
       "    </tr>\n",
       "    <tr>\n",
       "      <th>3</th>\n",
       "      <td>0</td>\n",
       "      <td>0.233810</td>\n",
       "      <td>30</td>\n",
       "      <td>0</td>\n",
       "      <td>0.036050</td>\n",
       "      <td>3300.0</td>\n",
       "      <td>5</td>\n",
       "      <td>0</td>\n",
       "      <td>0</td>\n",
       "      <td>0</td>\n",
       "      <td>0.0</td>\n",
       "    </tr>\n",
       "    <tr>\n",
       "      <th>4</th>\n",
       "      <td>0</td>\n",
       "      <td>0.907239</td>\n",
       "      <td>49</td>\n",
       "      <td>1</td>\n",
       "      <td>0.024926</td>\n",
       "      <td>63588.0</td>\n",
       "      <td>7</td>\n",
       "      <td>0</td>\n",
       "      <td>1</td>\n",
       "      <td>0</td>\n",
       "      <td>0.0</td>\n",
       "    </tr>\n",
       "  </tbody>\n",
       "</table>\n",
       "</div>"
      ],
      "text/plain": [
       "   seriousdlqin2yrs  revolvingutilizationofunsecuredlines  age  \\\n",
       "0                 1                              0.766127   45   \n",
       "1                 0                              0.957151   40   \n",
       "2                 0                              0.658180   38   \n",
       "3                 0                              0.233810   30   \n",
       "4                 0                              0.907239   49   \n",
       "\n",
       "   numberoftime3059dayspastduenotworse  debtratio  monthlyincome  \\\n",
       "0                                    2   0.802982         9120.0   \n",
       "1                                    0   0.121876         2600.0   \n",
       "2                                    1   0.085113         3042.0   \n",
       "3                                    0   0.036050         3300.0   \n",
       "4                                    1   0.024926        63588.0   \n",
       "\n",
       "   numberofopencreditlinesandloans  numberoftimes90dayslate  \\\n",
       "0                               13                        0   \n",
       "1                                4                        0   \n",
       "2                                2                        1   \n",
       "3                                5                        0   \n",
       "4                                7                        0   \n",
       "\n",
       "   numberrealestateloansorlines  numberoftime6089dayspastduenotworse  \\\n",
       "0                             6                                    0   \n",
       "1                             0                                    0   \n",
       "2                             0                                    0   \n",
       "3                             0                                    0   \n",
       "4                             1                                    0   \n",
       "\n",
       "   numberofdependents  \n",
       "0                 2.0  \n",
       "1                 1.0  \n",
       "2                 0.0  \n",
       "3                 0.0  \n",
       "4                 0.0  "
      ]
     },
     "execution_count": 4,
     "metadata": {},
     "output_type": "execute_result"
    }
   ],
   "source": [
    "# print the 5 records of the traiing dataset\n",
    "training_data.head()"
   ]
  },
  {
   "cell_type": "markdown",
   "metadata": {},
   "source": [
    "### Handle the outliers"
   ]
  },
  {
   "cell_type": "code",
   "execution_count": 5,
   "metadata": {},
   "outputs": [],
   "source": [
    "training_data = training_data.fillna(training_data.median())"
   ]
  },
  {
   "cell_type": "code",
   "execution_count": 6,
   "metadata": {},
   "outputs": [
    {
     "data": {
      "text/plain": [
       "seriousdlqin2yrs                        0\n",
       "revolvingutilizationofunsecuredlines    0\n",
       "age                                     0\n",
       "numberoftime3059dayspastduenotworse     0\n",
       "debtratio                               0\n",
       "monthlyincome                           0\n",
       "numberofopencreditlinesandloans         0\n",
       "numberoftimes90dayslate                 0\n",
       "numberrealestateloansorlines            0\n",
       "numberoftime6089dayspastduenotworse     0\n",
       "numberofdependents                      0\n",
       "dtype: int64"
      ]
     },
     "execution_count": 6,
     "metadata": {},
     "output_type": "execute_result"
    }
   ],
   "source": [
    "training_data.isna().sum()"
   ]
  },
  {
   "cell_type": "code",
   "execution_count": 8,
   "metadata": {},
   "outputs": [
    {
     "name": "stdout",
     "output_type": "stream",
     "text": [
      "   seriousdlqin2yrs  revolvingutilizationofunsecuredlines   age  \\\n",
      "0                 1                              0.766127  45.0   \n",
      "1                 0                              0.957151  40.0   \n",
      "2                 0                              0.658180  38.0   \n",
      "3                 0                              0.233810  30.0   \n",
      "4                 0                              0.907239  49.0   \n",
      "\n",
      "   numberoftime3059dayspastduenotworse  debtratio  monthlyincome  \\\n",
      "0                                  0.0   0.802982         9120.0   \n",
      "1                                  0.0   0.121876         2600.0   \n",
      "2                                  0.0   0.085113         3042.0   \n",
      "3                                  0.0   0.036050         3300.0   \n",
      "4                                  0.0   0.024926        12645.5   \n",
      "\n",
      "   numberofopencreditlinesandloans  numberoftimes90dayslate  \\\n",
      "0                             13.0                      0.0   \n",
      "1                              4.0                      0.0   \n",
      "2                              2.0                      0.0   \n",
      "3                              5.0                      0.0   \n",
      "4                              7.0                      0.0   \n",
      "\n",
      "   numberrealestateloansorlines  numberoftime6089dayspastduenotworse  \\\n",
      "0                           5.0                                  0.0   \n",
      "1                           0.0                                  0.0   \n",
      "2                           0.0                                  0.0   \n",
      "3                           0.0                                  0.0   \n",
      "4                           1.0                                  0.0   \n",
      "\n",
      "   numberofdependents  \n",
      "0                 2.0  \n",
      "1                 1.0  \n",
      "2                 0.0  \n",
      "3                 0.0  \n",
      "4                 0.0  \n"
     ]
    }
   ],
   "source": [
    "import pandas as pd\n",
    "import numpy as np\n",
    "\n",
    "# Example DataFrame\n",
    "\n",
    "df = training_data\n",
    "\n",
    "# Function to adjust values to fit within the IQR\n",
    "def adjust_to_iqr(df):\n",
    "    for column in df.columns:\n",
    "        if column == 'seriousdlqin2yrs':\n",
    "            continue  # Skip the excluded column\n",
    "        Q1 = df[column].quantile(0.25)\n",
    "        Q3 = df[column].quantile(0.75)\n",
    "        IQR = Q3 - Q1\n",
    "\n",
    "        lower_bound = Q1 - 1.5 * IQR\n",
    "        upper_bound = Q3 + 1.5 * IQR\n",
    "\n",
    "        df[column] = np.where(df[column] < lower_bound, lower_bound, df[column])\n",
    "        df[column] = np.where(df[column] > upper_bound, upper_bound, df[column])\n",
    "\n",
    "    return df\n",
    "\n",
    "# Adjust DataFrame\n",
    "training_data = adjust_to_iqr(df)\n",
    "\n",
    "# Show the adjusted DataFrame\n",
    "print(training_data.head())"
   ]
  },
  {
   "cell_type": "markdown",
   "metadata": {},
   "source": [
    "## Train and build baseline model"
   ]
  },
  {
   "cell_type": "code",
   "execution_count": 9,
   "metadata": {},
   "outputs": [],
   "source": [
    "from sklearn.linear_model import LogisticRegression\n",
    "from sklearn.ensemble import AdaBoostClassifier, GradientBoostingClassifier, RandomForestClassifier\n",
    "from sklearn.neighbors import KNeighborsClassifier\n",
    "from sklearn.model_selection import train_test_split\n",
    "from sklearn.metrics import roc_auc_score, auc, roc_curve\n",
    "import lightgbm as lgb"
   ]
  },
  {
   "cell_type": "code",
   "execution_count": 10,
   "metadata": {},
   "outputs": [],
   "source": [
    "X = training_data.drop('seriousdlqin2yrs', axis=1)\n",
    "y = training_data.seriousdlqin2yrs"
   ]
  },
  {
   "cell_type": "code",
   "execution_count": 11,
   "metadata": {},
   "outputs": [],
   "source": [
    "X_train, X_test, y_train, y_test = train_test_split(X, y, test_size=0.25)"
   ]
  },
  {
   "cell_type": "markdown",
   "metadata": {},
   "source": [
    "#### Gradientboosting Classifier"
   ]
  },
  {
   "cell_type": "code",
   "execution_count": 12,
   "metadata": {},
   "outputs": [],
   "source": [
    "gbMod = GradientBoostingClassifier(loss='exponential', learning_rate=0.1, n_estimators=200, subsample=1.0,\n",
    "                                   min_samples_split=2, min_samples_leaf=1, min_weight_fraction_leaf=0.0, \n",
    "                                   max_depth=3,\n",
    "                                   init=None, random_state=None, max_features=None, verbose=0)"
   ]
  },
  {
   "cell_type": "code",
   "execution_count": 13,
   "metadata": {},
   "outputs": [
    {
     "data": {
      "text/html": [
       "<style>#sk-container-id-1 {color: black;}#sk-container-id-1 pre{padding: 0;}#sk-container-id-1 div.sk-toggleable {background-color: white;}#sk-container-id-1 label.sk-toggleable__label {cursor: pointer;display: block;width: 100%;margin-bottom: 0;padding: 0.3em;box-sizing: border-box;text-align: center;}#sk-container-id-1 label.sk-toggleable__label-arrow:before {content: \"▸\";float: left;margin-right: 0.25em;color: #696969;}#sk-container-id-1 label.sk-toggleable__label-arrow:hover:before {color: black;}#sk-container-id-1 div.sk-estimator:hover label.sk-toggleable__label-arrow:before {color: black;}#sk-container-id-1 div.sk-toggleable__content {max-height: 0;max-width: 0;overflow: hidden;text-align: left;background-color: #f0f8ff;}#sk-container-id-1 div.sk-toggleable__content pre {margin: 0.2em;color: black;border-radius: 0.25em;background-color: #f0f8ff;}#sk-container-id-1 input.sk-toggleable__control:checked~div.sk-toggleable__content {max-height: 200px;max-width: 100%;overflow: auto;}#sk-container-id-1 input.sk-toggleable__control:checked~label.sk-toggleable__label-arrow:before {content: \"▾\";}#sk-container-id-1 div.sk-estimator input.sk-toggleable__control:checked~label.sk-toggleable__label {background-color: #d4ebff;}#sk-container-id-1 div.sk-label input.sk-toggleable__control:checked~label.sk-toggleable__label {background-color: #d4ebff;}#sk-container-id-1 input.sk-hidden--visually {border: 0;clip: rect(1px 1px 1px 1px);clip: rect(1px, 1px, 1px, 1px);height: 1px;margin: -1px;overflow: hidden;padding: 0;position: absolute;width: 1px;}#sk-container-id-1 div.sk-estimator {font-family: monospace;background-color: #f0f8ff;border: 1px dotted black;border-radius: 0.25em;box-sizing: border-box;margin-bottom: 0.5em;}#sk-container-id-1 div.sk-estimator:hover {background-color: #d4ebff;}#sk-container-id-1 div.sk-parallel-item::after {content: \"\";width: 100%;border-bottom: 1px solid gray;flex-grow: 1;}#sk-container-id-1 div.sk-label:hover label.sk-toggleable__label {background-color: #d4ebff;}#sk-container-id-1 div.sk-serial::before {content: \"\";position: absolute;border-left: 1px solid gray;box-sizing: border-box;top: 0;bottom: 0;left: 50%;z-index: 0;}#sk-container-id-1 div.sk-serial {display: flex;flex-direction: column;align-items: center;background-color: white;padding-right: 0.2em;padding-left: 0.2em;position: relative;}#sk-container-id-1 div.sk-item {position: relative;z-index: 1;}#sk-container-id-1 div.sk-parallel {display: flex;align-items: stretch;justify-content: center;background-color: white;position: relative;}#sk-container-id-1 div.sk-item::before, #sk-container-id-1 div.sk-parallel-item::before {content: \"\";position: absolute;border-left: 1px solid gray;box-sizing: border-box;top: 0;bottom: 0;left: 50%;z-index: -1;}#sk-container-id-1 div.sk-parallel-item {display: flex;flex-direction: column;z-index: 1;position: relative;background-color: white;}#sk-container-id-1 div.sk-parallel-item:first-child::after {align-self: flex-end;width: 50%;}#sk-container-id-1 div.sk-parallel-item:last-child::after {align-self: flex-start;width: 50%;}#sk-container-id-1 div.sk-parallel-item:only-child::after {width: 0;}#sk-container-id-1 div.sk-dashed-wrapped {border: 1px dashed gray;margin: 0 0.4em 0.5em 0.4em;box-sizing: border-box;padding-bottom: 0.4em;background-color: white;}#sk-container-id-1 div.sk-label label {font-family: monospace;font-weight: bold;display: inline-block;line-height: 1.2em;}#sk-container-id-1 div.sk-label-container {text-align: center;}#sk-container-id-1 div.sk-container {/* jupyter's `normalize.less` sets `[hidden] { display: none; }` but bootstrap.min.css set `[hidden] { display: none !important; }` so we also need the `!important` here to be able to override the default hidden behavior on the sphinx rendered scikit-learn.org. See: https://github.com/scikit-learn/scikit-learn/issues/21755 */display: inline-block !important;position: relative;}#sk-container-id-1 div.sk-text-repr-fallback {display: none;}</style><div id=\"sk-container-id-1\" class=\"sk-top-container\"><div class=\"sk-text-repr-fallback\"><pre>GradientBoostingClassifier(loss=&#x27;exponential&#x27;, n_estimators=200)</pre><b>In a Jupyter environment, please rerun this cell to show the HTML representation or trust the notebook. <br />On GitHub, the HTML representation is unable to render, please try loading this page with nbviewer.org.</b></div><div class=\"sk-container\" hidden><div class=\"sk-item\"><div class=\"sk-estimator sk-toggleable\"><input class=\"sk-toggleable__control sk-hidden--visually\" id=\"sk-estimator-id-1\" type=\"checkbox\" checked><label for=\"sk-estimator-id-1\" class=\"sk-toggleable__label sk-toggleable__label-arrow\">GradientBoostingClassifier</label><div class=\"sk-toggleable__content\"><pre>GradientBoostingClassifier(loss=&#x27;exponential&#x27;, n_estimators=200)</pre></div></div></div></div></div>"
      ],
      "text/plain": [
       "GradientBoostingClassifier(loss='exponential', n_estimators=200)"
      ]
     },
     "execution_count": 13,
     "metadata": {},
     "output_type": "execute_result"
    }
   ],
   "source": [
    "gbMod.fit(X_train, y_train)"
   ]
  },
  {
   "cell_type": "code",
   "execution_count": 14,
   "metadata": {},
   "outputs": [
    {
     "data": {
      "text/plain": [
       "0.9337333333333333"
      ]
     },
     "execution_count": 14,
     "metadata": {},
     "output_type": "execute_result"
    }
   ],
   "source": [
    "gbMod.score(X_test, y_test)"
   ]
  },
  {
   "cell_type": "code",
   "execution_count": 15,
   "metadata": {},
   "outputs": [],
   "source": [
    "test_labels=gbMod.predict_proba(np.array(X_test.values))[:,1]"
   ]
  },
  {
   "cell_type": "code",
   "execution_count": 16,
   "metadata": {},
   "outputs": [
    {
     "data": {
      "text/plain": [
       "0.8080912179557171"
      ]
     },
     "execution_count": 16,
     "metadata": {},
     "output_type": "execute_result"
    }
   ],
   "source": [
    "roc_auc_score(y_test,test_labels , average='macro', sample_weight=None)"
   ]
  },
  {
   "cell_type": "code",
   "execution_count": 17,
   "metadata": {},
   "outputs": [
    {
     "data": {
      "image/png": "[encoded data removed]",
      "text/plain": [
       "<Figure size 800x600 with 1 Axes>"
      ]
     },
     "metadata": {},
     "output_type": "display_data"
    }
   ],
   "source": [
    "fpr, tpr, thresholds = roc_curve(y_test, test_labels)\n",
    "roc_auc = auc(fpr, tpr)\n",
    "\n",
    "# Plot ROC curve\n",
    "plt.figure(figsize=(8, 6))\n",
    "plt.plot(fpr, tpr, color='darkorange', lw=2, label='ROC curve (area = %0.2f)' % roc_auc)\n",
    "plt.plot([0, 1], [0, 1], color='navy', lw=2, linestyle='--')\n",
    "plt.xlim([0.0, 1.0])\n",
    "plt.ylim([0.0, 1.05])\n",
    "plt.xlabel('False Positive Rate')\n",
    "plt.ylabel('True Positive Rate')\n",
    "plt.title('Receiver Operating Characteristic (ROC)')\n",
    "plt.legend(loc=\"lower right\")\n",
    "plt.show()\n",
    "\n",
    "#The dashed line on an ROC curve represents a baseline that indicates \n",
    "#the performance of a classifier that makes random predictions."
   ]
  },
  {
   "cell_type": "markdown",
   "metadata": {},
   "source": [
    "#### GradientBoosting"
   ]
  },
  {
   "cell_type": "code",
   "execution_count": 18,
   "metadata": {},
   "outputs": [],
   "source": [
    "from sklearn.model_selection import RandomizedSearchCV\n",
    "from sklearn.model_selection import GridSearchCV\n",
    "from scipy.stats import randint"
   ]
  },
  {
   "cell_type": "code",
   "execution_count": 19,
   "metadata": {},
   "outputs": [],
   "source": [
    "gbHyperParams = {'loss' : ['deviance', 'exponential'],\n",
    "                 'n_estimators': randint(10, 500),\n",
    "                 'max_depth': randint(1,10)}"
   ]
  },
  {
   "cell_type": "code",
   "execution_count": 20,
   "metadata": {},
   "outputs": [
    {
     "name": "stdout",
     "output_type": "stream",
     "text": [
      "Fitting 5 folds for each of 10 candidates, totalling 50 fits\n",
      "[CV] END ....loss=exponential, max_depth=6, n_estimators=259; total time= 7.5min\n",
      "[CV] END ....loss=exponential, max_depth=6, n_estimators=259; total time=  42.0s\n",
      "[CV] END ....loss=exponential, max_depth=6, n_estimators=259; total time=  41.6s\n",
      "[CV] END ....loss=exponential, max_depth=6, n_estimators=259; total time=  41.7s\n",
      "[CV] END ....loss=exponential, max_depth=6, n_estimators=259; total time=  41.7s\n",
      "[CV] END .......loss=deviance, max_depth=2, n_estimators=291; total time=   0.0s\n",
      "[CV] END .......loss=deviance, max_depth=2, n_estimators=291; total time=   0.0s\n",
      "[CV] END .......loss=deviance, max_depth=2, n_estimators=291; total time=   0.0s\n",
      "[CV] END .......loss=deviance, max_depth=2, n_estimators=291; total time=   0.0s\n",
      "[CV] END .......loss=deviance, max_depth=2, n_estimators=291; total time=   0.0s\n",
      "[CV] END .....loss=exponential, max_depth=1, n_estimators=45; total time=   1.4s\n",
      "[CV] END .....loss=exponential, max_depth=1, n_estimators=45; total time=   1.4s\n",
      "[CV] END .....loss=exponential, max_depth=1, n_estimators=45; total time=   1.5s\n",
      "[CV] END .....loss=exponential, max_depth=1, n_estimators=45; total time=   1.4s\n",
      "[CV] END .....loss=exponential, max_depth=1, n_estimators=45; total time=   1.4s\n",
      "[CV] END .......loss=deviance, max_depth=3, n_estimators=245; total time=   0.0s\n",
      "[CV] END .......loss=deviance, max_depth=3, n_estimators=245; total time=   0.0s\n",
      "[CV] END .......loss=deviance, max_depth=3, n_estimators=245; total time=   0.0s\n",
      "[CV] END .......loss=deviance, max_depth=3, n_estimators=245; total time=   0.0s\n",
      "[CV] END .......loss=deviance, max_depth=3, n_estimators=245; total time=   0.0s\n",
      "[CV] END ....loss=exponential, max_depth=2, n_estimators=326; total time=  18.8s\n",
      "[CV] END ....loss=exponential, max_depth=2, n_estimators=326; total time=  18.8s\n",
      "[CV] END ....loss=exponential, max_depth=2, n_estimators=326; total time=  18.8s\n",
      "[CV] END ....loss=exponential, max_depth=2, n_estimators=326; total time=  18.8s\n",
      "[CV] END ....loss=exponential, max_depth=2, n_estimators=326; total time=  18.8s\n",
      "[CV] END .......loss=deviance, max_depth=9, n_estimators=129; total time=   0.0s\n",
      "[CV] END .......loss=deviance, max_depth=9, n_estimators=129; total time=   0.0s\n",
      "[CV] END .......loss=deviance, max_depth=9, n_estimators=129; total time=   0.0s\n",
      "[CV] END .......loss=deviance, max_depth=9, n_estimators=129; total time=   0.0s\n",
      "[CV] END .......loss=deviance, max_depth=9, n_estimators=129; total time=   0.0s\n",
      "[CV] END ....loss=exponential, max_depth=6, n_estimators=443; total time= 1.2min\n",
      "[CV] END ....loss=exponential, max_depth=6, n_estimators=443; total time= 1.2min\n",
      "[CV] END ....loss=exponential, max_depth=6, n_estimators=443; total time= 1.2min\n",
      "[CV] END ....loss=exponential, max_depth=6, n_estimators=443; total time= 1.2min\n",
      "[CV] END ....loss=exponential, max_depth=6, n_estimators=443; total time= 1.2min\n",
      "[CV] END ....loss=exponential, max_depth=9, n_estimators=402; total time= 1.6min\n",
      "[CV] END ....loss=exponential, max_depth=9, n_estimators=402; total time= 1.6min\n",
      "[CV] END ....loss=exponential, max_depth=9, n_estimators=402; total time= 1.6min\n",
      "[CV] END ....loss=exponential, max_depth=9, n_estimators=402; total time= 1.6min\n",
      "[CV] END ....loss=exponential, max_depth=9, n_estimators=402; total time= 1.6min\n",
      "[CV] END .......loss=deviance, max_depth=7, n_estimators=322; total time=   0.0s\n",
      "[CV] END .......loss=deviance, max_depth=7, n_estimators=322; total time=   0.0s\n",
      "[CV] END .......loss=deviance, max_depth=7, n_estimators=322; total time=   0.0s\n",
      "[CV] END .......loss=deviance, max_depth=7, n_estimators=322; total time=   0.0s\n",
      "[CV] END .......loss=deviance, max_depth=7, n_estimators=322; total time=   0.0s\n",
      "[CV] END ........loss=deviance, max_depth=9, n_estimators=96; total time=   0.0s\n",
      "[CV] END ........loss=deviance, max_depth=9, n_estimators=96; total time=   0.0s\n",
      "[CV] END ........loss=deviance, max_depth=9, n_estimators=96; total time=   0.0s\n",
      "[CV] END ........loss=deviance, max_depth=9, n_estimators=96; total time=   0.0s\n",
      "[CV] END ........loss=deviance, max_depth=9, n_estimators=96; total time=   0.0s\n"
     ]
    },
    {
     "data": {
      "text/html": [
       "<style>#sk-container-id-2 {color: black;}#sk-container-id-2 pre{padding: 0;}#sk-container-id-2 div.sk-toggleable {background-color: white;}#sk-container-id-2 label.sk-toggleable__label {cursor: pointer;display: block;width: 100%;margin-bottom: 0;padding: 0.3em;box-sizing: border-box;text-align: center;}#sk-container-id-2 label.sk-toggleable__label-arrow:before {content: \"▸\";float: left;margin-right: 0.25em;color: #696969;}#sk-container-id-2 label.sk-toggleable__label-arrow:hover:before {color: black;}#sk-container-id-2 div.sk-estimator:hover label.sk-toggleable__label-arrow:before {color: black;}#sk-container-id-2 div.sk-toggleable__content {max-height: 0;max-width: 0;overflow: hidden;text-align: left;background-color: #f0f8ff;}#sk-container-id-2 div.sk-toggleable__content pre {margin: 0.2em;color: black;border-radius: 0.25em;background-color: #f0f8ff;}#sk-container-id-2 input.sk-toggleable__control:checked~div.sk-toggleable__content {max-height: 200px;max-width: 100%;overflow: auto;}#sk-container-id-2 input.sk-toggleable__control:checked~label.sk-toggleable__label-arrow:before {content: \"▾\";}#sk-container-id-2 div.sk-estimator input.sk-toggleable__control:checked~label.sk-toggleable__label {background-color: #d4ebff;}#sk-container-id-2 div.sk-label input.sk-toggleable__control:checked~label.sk-toggleable__label {background-color: #d4ebff;}#sk-container-id-2 input.sk-hidden--visually {border: 0;clip: rect(1px 1px 1px 1px);clip: rect(1px, 1px, 1px, 1px);height: 1px;margin: -1px;overflow: hidden;padding: 0;position: absolute;width: 1px;}#sk-container-id-2 div.sk-estimator {font-family: monospace;background-color: #f0f8ff;border: 1px dotted black;border-radius: 0.25em;box-sizing: border-box;margin-bottom: 0.5em;}#sk-container-id-2 div.sk-estimator:hover {background-color: #d4ebff;}#sk-container-id-2 div.sk-parallel-item::after {content: \"\";width: 100%;border-bottom: 1px solid gray;flex-grow: 1;}#sk-container-id-2 div.sk-label:hover label.sk-toggleable__label {background-color: #d4ebff;}#sk-container-id-2 div.sk-serial::before {content: \"\";position: absolute;border-left: 1px solid gray;box-sizing: border-box;top: 0;bottom: 0;left: 50%;z-index: 0;}#sk-container-id-2 div.sk-serial {display: flex;flex-direction: column;align-items: center;background-color: white;padding-right: 0.2em;padding-left: 0.2em;position: relative;}#sk-container-id-2 div.sk-item {position: relative;z-index: 1;}#sk-container-id-2 div.sk-parallel {display: flex;align-items: stretch;justify-content: center;background-color: white;position: relative;}#sk-container-id-2 div.sk-item::before, #sk-container-id-2 div.sk-parallel-item::before {content: \"\";position: absolute;border-left: 1px solid gray;box-sizing: border-box;top: 0;bottom: 0;left: 50%;z-index: -1;}#sk-container-id-2 div.sk-parallel-item {display: flex;flex-direction: column;z-index: 1;position: relative;background-color: white;}#sk-container-id-2 div.sk-parallel-item:first-child::after {align-self: flex-end;width: 50%;}#sk-container-id-2 div.sk-parallel-item:last-child::after {align-self: flex-start;width: 50%;}#sk-container-id-2 div.sk-parallel-item:only-child::after {width: 0;}#sk-container-id-2 div.sk-dashed-wrapped {border: 1px dashed gray;margin: 0 0.4em 0.5em 0.4em;box-sizing: border-box;padding-bottom: 0.4em;background-color: white;}#sk-container-id-2 div.sk-label label {font-family: monospace;font-weight: bold;display: inline-block;line-height: 1.2em;}#sk-container-id-2 div.sk-label-container {text-align: center;}#sk-container-id-2 div.sk-container {/* jupyter's `normalize.less` sets `[hidden] { display: none; }` but bootstrap.min.css set `[hidden] { display: none !important; }` so we also need the `!important` here to be able to override the default hidden behavior on the sphinx rendered scikit-learn.org. See: https://github.com/scikit-learn/scikit-learn/issues/21755 */display: inline-block !important;position: relative;}#sk-container-id-2 div.sk-text-repr-fallback {display: none;}</style><div id=\"sk-container-id-2\" class=\"sk-top-container\"><div class=\"sk-text-repr-fallback\"><pre>RandomizedSearchCV(estimator=GradientBoostingClassifier(loss=&#x27;exponential&#x27;,\n",
       "                                                        n_estimators=200),\n",
       "                   param_distributions={&#x27;loss&#x27;: [&#x27;deviance&#x27;, &#x27;exponential&#x27;],\n",
       "                                        &#x27;max_depth&#x27;: &lt;scipy.stats._distn_infrastructure.rv_discrete_frozen object at 0x287532010&gt;,\n",
       "                                        &#x27;n_estimators&#x27;: &lt;scipy.stats._distn_infrastructure.rv_discrete_frozen object at 0x169858ed0&gt;},\n",
       "                   scoring=&#x27;roc_auc&#x27;, verbose=2)</pre><b>In a Jupyter environment, please rerun this cell to show the HTML representation or trust the notebook. <br />On GitHub, the HTML representation is unable to render, please try loading this page with nbviewer.org.</b></div><div class=\"sk-container\" hidden><div class=\"sk-item sk-dashed-wrapped\"><div class=\"sk-label-container\"><div class=\"sk-label sk-toggleable\"><input class=\"sk-toggleable__control sk-hidden--visually\" id=\"sk-estimator-id-2\" type=\"checkbox\" ><label for=\"sk-estimator-id-2\" class=\"sk-toggleable__label sk-toggleable__label-arrow\">RandomizedSearchCV</label><div class=\"sk-toggleable__content\"><pre>RandomizedSearchCV(estimator=GradientBoostingClassifier(loss=&#x27;exponential&#x27;,\n",
       "                                                        n_estimators=200),\n",
       "                   param_distributions={&#x27;loss&#x27;: [&#x27;deviance&#x27;, &#x27;exponential&#x27;],\n",
       "                                        &#x27;max_depth&#x27;: &lt;scipy.stats._distn_infrastructure.rv_discrete_frozen object at 0x287532010&gt;,\n",
       "                                        &#x27;n_estimators&#x27;: &lt;scipy.stats._distn_infrastructure.rv_discrete_frozen object at 0x169858ed0&gt;},\n",
       "                   scoring=&#x27;roc_auc&#x27;, verbose=2)</pre></div></div></div><div class=\"sk-parallel\"><div class=\"sk-parallel-item\"><div class=\"sk-item\"><div class=\"sk-label-container\"><div class=\"sk-label sk-toggleable\"><input class=\"sk-toggleable__control sk-hidden--visually\" id=\"sk-estimator-id-3\" type=\"checkbox\" ><label for=\"sk-estimator-id-3\" class=\"sk-toggleable__label sk-toggleable__label-arrow\">estimator: GradientBoostingClassifier</label><div class=\"sk-toggleable__content\"><pre>GradientBoostingClassifier(loss=&#x27;exponential&#x27;, n_estimators=200)</pre></div></div></div><div class=\"sk-serial\"><div class=\"sk-item\"><div class=\"sk-estimator sk-toggleable\"><input class=\"sk-toggleable__control sk-hidden--visually\" id=\"sk-estimator-id-4\" type=\"checkbox\" ><label for=\"sk-estimator-id-4\" class=\"sk-toggleable__label sk-toggleable__label-arrow\">GradientBoostingClassifier</label><div class=\"sk-toggleable__content\"><pre>GradientBoostingClassifier(loss=&#x27;exponential&#x27;, n_estimators=200)</pre></div></div></div></div></div></div></div></div></div></div>"
      ],
      "text/plain": [
       "RandomizedSearchCV(estimator=GradientBoostingClassifier(loss='exponential',\n",
       "                                                        n_estimators=200),\n",
       "                   param_distributions={'loss': ['deviance', 'exponential'],\n",
       "                                        'max_depth': <scipy.stats._distn_infrastructure.rv_discrete_frozen object at 0x287532010>,\n",
       "                                        'n_estimators': <scipy.stats._distn_infrastructure.rv_discrete_frozen object at 0x169858ed0>},\n",
       "                   scoring='roc_auc', verbose=2)"
      ]
     },
     "execution_count": 20,
     "metadata": {},
     "output_type": "execute_result"
    }
   ],
   "source": [
    "gridSearchGB = RandomizedSearchCV(estimator=gbMod, param_distributions=gbHyperParams, n_iter=10,\n",
    "                                   scoring='roc_auc', cv=None, verbose=2)\n",
    "\n",
    "gridSearchGB.fit(X_train, y_train)"
   ]
  },
  {
   "cell_type": "code",
   "execution_count": 21,
   "metadata": {},
   "outputs": [
    {
     "name": "stdout",
     "output_type": "stream",
     "text": [
      "Fitting 5 folds for each of 10 candidates, totalling 50 fits\n",
      "[CV] END ....loss=exponential, max_depth=1, n_estimators=124; total time=   3.9s\n",
      "[CV] END ....loss=exponential, max_depth=1, n_estimators=124; total time=   3.9s\n",
      "[CV] END ....loss=exponential, max_depth=1, n_estimators=124; total time=   3.9s\n",
      "[CV] END ....loss=exponential, max_depth=1, n_estimators=124; total time=   3.9s\n",
      "[CV] END ....loss=exponential, max_depth=1, n_estimators=124; total time=   3.9s\n",
      "[CV] END .......loss=deviance, max_depth=9, n_estimators=370; total time=   0.0s\n",
      "[CV] END .......loss=deviance, max_depth=9, n_estimators=370; total time=   0.0s\n",
      "[CV] END .......loss=deviance, max_depth=9, n_estimators=370; total time=   0.0s\n",
      "[CV] END .......loss=deviance, max_depth=9, n_estimators=370; total time=   0.0s\n",
      "[CV] END .......loss=deviance, max_depth=9, n_estimators=370; total time=   0.0s\n",
      "[CV] END ........loss=deviance, max_depth=8, n_estimators=93; total time=   0.0s\n",
      "[CV] END ........loss=deviance, max_depth=8, n_estimators=93; total time=   0.0s\n",
      "[CV] END ........loss=deviance, max_depth=8, n_estimators=93; total time=   0.0s\n",
      "[CV] END ........loss=deviance, max_depth=8, n_estimators=93; total time=   0.0s\n",
      "[CV] END ........loss=deviance, max_depth=8, n_estimators=93; total time=   0.0s\n",
      "[CV] END .......loss=deviance, max_depth=4, n_estimators=446; total time=   0.0s\n",
      "[CV] END .......loss=deviance, max_depth=4, n_estimators=446; total time=   0.0s\n",
      "[CV] END .......loss=deviance, max_depth=4, n_estimators=446; total time=   0.0s\n",
      "[CV] END .......loss=deviance, max_depth=4, n_estimators=446; total time=   0.0s\n",
      "[CV] END .......loss=deviance, max_depth=4, n_estimators=446; total time=   0.0s\n",
      "[CV] END ....loss=exponential, max_depth=5, n_estimators=199; total time=  26.7s\n",
      "[CV] END ....loss=exponential, max_depth=5, n_estimators=199; total time=  26.8s\n",
      "[CV] END ....loss=exponential, max_depth=5, n_estimators=199; total time=  26.7s\n",
      "[CV] END ....loss=exponential, max_depth=5, n_estimators=199; total time=  26.9s\n",
      "[CV] END ....loss=exponential, max_depth=5, n_estimators=199; total time=  26.7s\n",
      "[CV] END .......loss=deviance, max_depth=8, n_estimators=280; total time=   0.0s\n",
      "[CV] END .......loss=deviance, max_depth=8, n_estimators=280; total time=   0.0s\n",
      "[CV] END .......loss=deviance, max_depth=8, n_estimators=280; total time=   0.0s\n",
      "[CV] END .......loss=deviance, max_depth=8, n_estimators=280; total time=   0.0s\n",
      "[CV] END .......loss=deviance, max_depth=8, n_estimators=280; total time=   0.0s\n",
      "[CV] END ....loss=exponential, max_depth=3, n_estimators=214; total time=  17.8s\n",
      "[CV] END ....loss=exponential, max_depth=3, n_estimators=214; total time=  17.9s\n",
      "[CV] END ....loss=exponential, max_depth=3, n_estimators=214; total time=  17.9s\n",
      "[CV] END ....loss=exponential, max_depth=3, n_estimators=214; total time=  17.8s\n",
      "[CV] END ....loss=exponential, max_depth=3, n_estimators=214; total time=  17.9s\n",
      "[CV] END ........loss=deviance, max_depth=5, n_estimators=81; total time=   0.0s\n",
      "[CV] END ........loss=deviance, max_depth=5, n_estimators=81; total time=   0.0s\n",
      "[CV] END ........loss=deviance, max_depth=5, n_estimators=81; total time=   0.0s\n",
      "[CV] END ........loss=deviance, max_depth=5, n_estimators=81; total time=   0.0s\n",
      "[CV] END ........loss=deviance, max_depth=5, n_estimators=81; total time=   0.0s\n",
      "[CV] END ....loss=exponential, max_depth=8, n_estimators=352; total time= 1.3min\n",
      "[CV] END ....loss=exponential, max_depth=8, n_estimators=352; total time= 1.2min\n",
      "[CV] END ....loss=exponential, max_depth=8, n_estimators=352; total time= 1.2min\n",
      "[CV] END ....loss=exponential, max_depth=8, n_estimators=352; total time= 1.3min\n",
      "[CV] END ....loss=exponential, max_depth=8, n_estimators=352; total time= 1.2min\n",
      "[CV] END ....loss=exponential, max_depth=7, n_estimators=177; total time=  33.0s\n",
      "[CV] END ....loss=exponential, max_depth=7, n_estimators=177; total time=  33.0s\n",
      "[CV] END ....loss=exponential, max_depth=7, n_estimators=177; total time=  32.8s\n",
      "[CV] END ....loss=exponential, max_depth=7, n_estimators=177; total time=  33.0s\n",
      "[CV] END ....loss=exponential, max_depth=7, n_estimators=177; total time=  32.8s\n"
     ]
    }
   ],
   "source": [
    "gridSearchGB = RandomizedSearchCV(estimator=gbMod, param_distributions=gbHyperParams, n_iter=10,\n",
    "                                   scoring='roc_auc', cv=None, verbose=2).fit(X_train, y_train)\n"
   ]
  },
  {
   "cell_type": "code",
   "execution_count": 22,
   "metadata": {},
   "outputs": [
    {
     "data": {
      "text/plain": [
       "({'loss': 'exponential', 'max_depth': 3, 'n_estimators': 214},\n",
       " 0.8054002808202618)"
      ]
     },
     "execution_count": 22,
     "metadata": {},
     "output_type": "execute_result"
    }
   ],
   "source": [
    "gridSearchGB.best_params_, gridSearchGB.best_score_"
   ]
  },
  {
   "cell_type": "markdown",
   "metadata": {},
   "source": [
    "### Train models with help of new hyper parameter"
   ]
  },
  {
   "cell_type": "code",
   "execution_count": 23,
   "metadata": {},
   "outputs": [],
   "source": [
    "bestGbModFitted = gridSearchGB.best_estimator_.fit(X_train, y_train)"
   ]
  },
  {
   "cell_type": "code",
   "execution_count": 24,
   "metadata": {},
   "outputs": [],
   "source": [
    "test_labels=bestGbModFitted.predict(X_test)"
   ]
  },
  {
   "cell_type": "code",
   "execution_count": 25,
   "metadata": {},
   "outputs": [
    {
     "data": {
      "text/plain": [
       "0.5086284393250603"
      ]
     },
     "execution_count": 25,
     "metadata": {},
     "output_type": "execute_result"
    }
   ],
   "source": [
    "roc_auc_score(y_test,test_labels , average='macro', sample_weight=None)"
   ]
  },
  {
   "cell_type": "code",
   "execution_count": 28,
   "metadata": {},
   "outputs": [
    {
     "name": "stdout",
     "output_type": "stream",
     "text": [
      "Accuracy :0.93376\n",
      "Precision :0.6428571428571429\n",
      "Recall :0.017971246006389777\n",
      "F1_score :0.03496503496503497\n"
     ]
    },
    {
     "data": {
      "text/plain": [
       "(0.93376, 0.6428571428571429, 0.017971246006389777, 0.03496503496503497)"
      ]
     },
     "execution_count": 28,
     "metadata": {},
     "output_type": "execute_result"
    }
   ],
   "source": [
    "model_performance(y_test, test_labels)"
   ]
  },
  {
   "cell_type": "code",
   "execution_count": 29,
   "metadata": {},
   "outputs": [
    {
     "data": {
      "image/png": "[encoded data removed]",
      "text/plain": [
       "<Figure size 1000x600 with 1 Axes>"
      ]
     },
     "metadata": {},
     "output_type": "display_data"
    }
   ],
   "source": [
    "import matplotlib.pyplot as plt\n",
    "\n",
    "# Performance metrics\n",
    "metrics = ['Accuracy', 'Precision', 'Recall', 'F1_score']\n",
    "values = [0.93376, 0.6428571428571429, 0.017971246006389777, 0.03496503496503497]\n",
    "\n",
    "# Creating the bar plot\n",
    "plt.figure(figsize=(10, 6)) # Adjust the figure size as needed\n",
    "plt.bar(metrics, values, color=['blue', 'orange', 'green', 'red']) # You can customize the colors\n",
    "\n",
    "plt.title('Model Performance Metrics')\n",
    "plt.ylabel('Score')\n",
    "plt.ylim(0, 1) # Assuming all values are between 0 and 1\n",
    "\n",
    "# Display the values on the bars\n",
    "for i, value in enumerate(values):\n",
    "    plt.text(i, value + 0.02, f\"{value:.2f}\", ha='center')\n",
    "\n",
    "plt.show()\n"
   ]
  },
  {
   "cell_type": "code",
   "execution_count": 27,
   "metadata": {},
   "outputs": [],
   "source": [
    "from sklearn.metrics import accuracy_score, precision_score, recall_score, f1_score, confusion_matrix, roc_auc_score, roc_curve\n",
    "\n",
    "# Model Evaluation Function\n",
    "def model_performance(y_test, y_pred) :\n",
    "    #Show metrics\n",
    "    tn, fp, fn, tp = confusion_matrix(y_test, y_pred).ravel()\n",
    "\n",
    "    Accuracy  =  ((tp+tn)/(tp+tn+fp+fn))\n",
    "    Precision =  (tp/(tp+fp))\n",
    "    Recall    =  (tp/(tp+fn))\n",
    "    F1_score  =  (2*(((tp/(tp+fp))*(tp/(tp+fn)))/((tp/(tp+fp))+(tp/(tp+fn)))))\n",
    "\n",
    "    print(f'Accuracy :{Accuracy}')\n",
    "    print(f'Precision :{Precision}')\n",
    "    print(f'Recall :{Recall}')\n",
    "    print(f'F1_score :{F1_score}')\n",
    "\n",
    "    return Accuracy, Precision, Recall, F1_score"
   ]
  },
  {
   "cell_type": "code",
   "execution_count": null,
   "metadata": {},
   "outputs": [],
   "source": []
  },
  {
   "cell_type": "markdown",
   "metadata": {},
   "source": [
    "#### Feature importance of final model"
   ]
  },
  {
   "cell_type": "code",
   "execution_count": 95,
   "metadata": {
    "scrolled": false
   },
   "outputs": [
    {
     "name": "stdout",
     "output_type": "stream",
     "text": [
      " 1) revolvingutilizationofunsecuredlines 0.193633\n",
      " 2) age                            0.180566\n",
      " 3) numberoftime3059dayspastduenotworse 0.146232\n",
      " 4) debtratio                      0.127389\n",
      " 5) monthlyincome                  0.091034\n",
      " 6) numberofopencreditlinesandloans 0.088507\n",
      " 7) numberoftimes90dayslate        0.049594\n",
      " 8) numberrealestateloansorlines   0.047440\n",
      " 9) numberoftime6089dayspastduenotworse 0.041825\n",
      "10) numberofdependents             0.033779\n"
     ]
    }
   ],
   "source": [
    "X = training_data.drop('seriousdlqin2yrs', axis=1)\n",
    "y = training_data.seriousdlqin2yrs\n",
    "features_label = training_data.columns[1:]\n",
    "forest = RandomForestClassifier (n_estimators = 10000, random_state=0, n_jobs = -1)\n",
    "forest.fit(X,y)\n",
    "importances = forest.feature_importances_\n",
    "indices = np. argsort(importances)[::-1]\n",
    "for i in range(X.shape[1]):\n",
    "    print (\"%2d) %-*s %f\" % (i + 1, 30, features_label[i],importances[indices[i]]))"
   ]
  },
  {
   "cell_type": "code",
   "execution_count": 96,
   "metadata": {},
   "outputs": [],
   "source": [
    "test_labels=bestGbModFitted_transformed.predict_proba(np.array(X_test_transform))[:,1]"
   ]
  },
  {
   "cell_type": "code",
   "execution_count": 97,
   "metadata": {},
   "outputs": [
    {
     "data": {
      "text/plain": [
       "0.8667103664848695"
      ]
     },
     "execution_count": 97,
     "metadata": {},
     "output_type": "execute_result"
    }
   ],
   "source": [
    "roc_auc_score(y_test,test_labels , average='macro', sample_weight=None)"
   ]
  },
  {
   "cell_type": "code",
   "execution_count": 98,
   "metadata": {},
   "outputs": [],
   "source": [
    "test_labels=bestAdaModFitted_transformed.predict_proba(np.array(X_test_transform))[:,1]"
   ]
  },
  {
   "cell_type": "code",
   "execution_count": 99,
   "metadata": {
    "scrolled": true
   },
   "outputs": [
    {
     "data": {
      "text/plain": [
       "0.8625036557274754"
      ]
     },
     "execution_count": 99,
     "metadata": {},
     "output_type": "execute_result"
    }
   ],
   "source": [
    "roc_auc_score(y_test,test_labels , average='macro', sample_weight=None)"
   ]
  },
  {
   "cell_type": "markdown",
   "metadata": {},
   "source": [
    "#### Feature importance of final model"
   ]
  },
  {
   "cell_type": "code",
   "execution_count": 107,
   "metadata": {
    "scrolled": false
   },
   "outputs": [
    {
     "name": "stdout",
     "output_type": "stream",
     "text": [
      " 1) revolvingutilizationofunsecuredlines 0.459241\n",
      " 2) age                            0.190310\n",
      " 3) numberoftime3059dayspastduenotworse 0.104308\n",
      " 4) debtratio                      0.098689\n",
      " 5) monthlyincome                  0.057866\n",
      " 6) numberofopencreditlinesandloans 0.027856\n",
      " 7) numberoftimes90dayslate        0.024879\n",
      " 8) numberrealestateloansorlines   0.018165\n",
      " 9) numberoftime6089dayspastduenotworse 0.013871\n",
      "10) numberofdependents             0.004814\n"
     ]
    }
   ],
   "source": [
    "features_label_1 = training_data.columns[1:]\n",
    "importances_1 = bestGbModFitted.feature_importances_\n",
    "indices = np. argsort(importances_1)[::-1]\n",
    "for i in range(X.shape[1]):\n",
    "    print (\"%2d) %-*s %f\" % (i + 1, 30, features_label_1[i],importances_1[indices[i]]))"
   ]
  },
  {
   "cell_type": "code",
   "execution_count": 109,
   "metadata": {
    "scrolled": false
   },
   "outputs": [
    {
     "data": {
      "image/png": "[encoded data removed]",
      "text/plain": [
       "<Figure size 1500x800 with 2 Axes>"
      ]
     },
     "metadata": {},
     "output_type": "display_data"
    }
   ],
   "source": [
    "fig, ax = plt.subplots(1, 2, figsize=(15, 8))  # 1 row, 2 columns, and adjusting the figure size\n",
    "\n",
    "# Plot for 'Feature Importances of bestGBMod'\n",
    "ax[0].bar(range(X.shape[1]), importances_1[indices], color=\"green\", align=\"center\")\n",
    "ax[0].set_xticks(range(X.shape[1]))\n",
    "ax[0].set_xticklabels(features_label_1, rotation=90)\n",
    "ax[0].set_xlim([-1, X.shape[1]])\n",
    "ax[0].set_title('Feature Importances of bestGBMod')\n",
    "\n",
    "\n",
    "plt.tight_layout()  # Adjust the layout to not overlap\n",
    "plt.show()"
   ]
  },
  {
   "cell_type": "markdown",
   "metadata": {},
   "source": [
    "### Testing on Real Test Dataset"
   ]
  },
  {
   "cell_type": "code",
   "execution_count": 110,
   "metadata": {},
   "outputs": [],
   "source": [
    "# Read Training dataset as well as drop the index column\n",
    "test_data = pd.read_csv('./cs-test.csv').drop('Unnamed: 0', axis = 1)\n",
    "# For each column heading we replace \"-\" and convert the heading in lowercase \n",
    "cleancolumn = []\n",
    "for i in range(len(test_data.columns)):\n",
    "    cleancolumn.append(test_data.columns[i].replace('-', '').lower())\n",
    "test_data.columns = cleancolumn"
   ]
  },
  {
   "cell_type": "code",
   "execution_count": 111,
   "metadata": {},
   "outputs": [],
   "source": [
    "test_data.drop(['seriousdlqin2yrs'], axis=1, inplace=True)\n",
    "test_data.fillna((training_data.median()), inplace=True)"
   ]
  },
  {
   "cell_type": "code",
   "execution_count": 112,
   "metadata": {
    "scrolled": true
   },
   "outputs": [
    {
     "name": "stdout",
     "output_type": "stream",
     "text": [
      "101503\n"
     ]
    }
   ],
   "source": [
    "test_labels_votingMod_old = votingMod_old.predict_proba(np.array(test_data.values))[:,1]\n",
    "print (len(test_labels_votingMod_old))"
   ]
  },
  {
   "cell_type": "code",
   "execution_count": 113,
   "metadata": {},
   "outputs": [],
   "source": [
    "output = pd.DataFrame({'ID':test_data.index, 'probability':test_labels_votingMod_old})"
   ]
  },
  {
   "cell_type": "code",
   "execution_count": 114,
   "metadata": {},
   "outputs": [],
   "source": [
    "output.to_csv(\"./predictions.csv\", index=False)"
   ]
  },
  {
   "cell_type": "code",
   "execution_count": 115,
   "metadata": {},
   "outputs": [],
   "source": [
    "import numpy as np\n",
    "from sklearn.preprocessing import FunctionTransformer\n",
    "\n",
    "# need to transfrom the test_data because we use model with transformed model \n",
    "transformer = FunctionTransformer(np.log1p)\n",
    "test_data_temp = np.array(test_data)\n",
    "test_data_transform = transformer.transform(test_data_temp)"
   ]
  },
  {
   "cell_type": "code",
   "execution_count": 116,
   "metadata": {
    "scrolled": true
   },
   "outputs": [
    {
     "name": "stdout",
     "output_type": "stream",
     "text": [
      "101503\n"
     ]
    }
   ],
   "source": [
    "test_labels_votingMod = votingMod.predict_proba(np.array(test_data.values))[:,1]\n",
    "print (len(test_labels_votingMod_old))"
   ]
  },
  {
   "cell_type": "code",
   "execution_count": 117,
   "metadata": {},
   "outputs": [],
   "source": [
    "output = pd.DataFrame({'ID':test_data.index, 'probability':test_labels_votingMod})"
   ]
  },
  {
   "cell_type": "code",
   "execution_count": 118,
   "metadata": {},
   "outputs": [],
   "source": [
    "output.to_csv(\"./predictions_voting_Feature_transformation.csv\", index=False)"
   ]
  }
 ],
 "metadata": {
  "kernelspec": {
   "display_name": "Python 3 (ipykernel)",
   "language": "python",
   "name": "python3"
  },
  "language_info": {
   "codemirror_mode": {
    "name": "ipython",
    "version": 3
   },
   "file_extension": ".py",
   "mimetype": "text/x-python",
   "name": "python",
   "nbconvert_exporter": "python",
   "pygments_lexer": "ipython3",
   "version": "3.11.4"
  },
  "toc": {
   "base_numbering": 1,
   "nav_menu": {},
   "number_sections": true,
   "sideBar": true,
   "skip_h1_title": false,
   "title_cell": "Table of Contents",
   "title_sidebar": "Contents",
   "toc_cell": false,
   "toc_position": {
    "height": "calc(100% - 180px)",
    "left": "10px",
    "top": "150px",
    "width": "646.719px"
   },
   "toc_section_display": true,
   "toc_window_display": true
  }
 },
 "nbformat": 4,
 "nbformat_minor": 2
}
